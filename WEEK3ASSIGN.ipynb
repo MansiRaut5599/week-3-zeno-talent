{
 "cells": [
  {
   "cell_type": "code",
   "execution_count": null,
   "id": "f4333c91-48ee-438f-8f5f-0835cd6ebca7",
   "metadata": {},
   "outputs": [],
   "source": [
    "!pip install nltk\n",
    "import nltk\n",
    "nltk.download('punkt')\n",
    "nltk.download('stopwords')\n",
    "from nltk.corpus import stopwords\n",
    "import matplotlib.pyplot as plt\n",
    "from sklearn.feature_extraction.text import CountVectorizer\n",
    "import string\n",
    "import re\n",
    "import pandas as pd\n",
    "from nltk.tokenize import word_tokenize\n",
    "#------------------------------------1-----------------------------\n",
    "df = pd.read_csv(\"E://IMDB//IMDB Dataset.csv\")\n",
    "def filtering_text(text):\n",
    "    text = text.lower()\n",
    "    text = re.sub(r'[^a-zA-Z\\s]', '', text)  # cleaning the strings\n",
    "    tokens = word_tokenize(text) ## tokenization\n",
    "    filtered_tokens = [word for word in tokens if word not in stop_words]  #filtering\n",
    "    return filtered_tokens\n",
    "\n",
    "data['Clean_review'] = data['review'].apply(filtering_text)\n",
    "#--------------------------------------------2-----------------------------\n",
    "vectorizer = CountVectorizer(ngram_range = (1, 1))\n",
    "x = vectorizer.fit_transform(Clean_review)\n",
    "vectorizer = CountVectorizer(ngram_range = (2,2))\n",
    "y = vectorizer.fit_transform(Clean_review)\n",
    "vectorizer = CountVectorizer(ngram_range = (3,3))\n",
    "z = vectorizer.fit_transform(Clean_review)\n",
    "print(\"unigram:\",vectorizer.get_feature_names_out(10))\n",
    "print(\"bigram:\",vectorizer.get_feature_names_out(10))\n",
    "print(\"trigram:\",vectorizer.get_feature_names_out(10))\n",
    "#----------------------3-------------------------------\n",
    "top_20 = df[review].count(20)\n",
    "print(top_20)\n",
    "plt.figure(figsize=(12, 8))\n",
    "sns.barplot(x=list(counts), y=list(words), palette = virdis)\n",
    "plt.title('Top 20 Most Frequent Words')\n",
    "plt.xlabel('Frequency')\n",
    "plt.ylabel('Words')\n",
    "plt.tight_layout()\n",
    "plt.show()\n",
    "#---------------------------------4----------------------------\n",
    "print(\"Vectorizing text using CountVectorizer...\")\n",
    "\n",
    "vectorizer = CountVectorizer(max_features=10) \n",
    "\n",
    "S = vectorizer.fit_transform(df['filtered_review'])\n",
    "\n",
    "print(f\"Shape of the resulting sparse matrix: {S.shape}\")\n",
    "\n",
    "feature_names = vectorizer.get_feature_names_out(10)\n",
    "print(\"feature names (vocabulary):\")"
   ]
  }
 ],
 "metadata": {
  "kernelspec": {
   "display_name": "Python 3 (ipykernel)",
   "language": "python",
   "name": "python3"
  },
  "language_info": {
   "codemirror_mode": {
    "name": "ipython",
    "version": 3
   },
   "file_extension": ".py",
   "mimetype": "text/x-python",
   "name": "python",
   "nbconvert_exporter": "python",
   "pygments_lexer": "ipython3",
   "version": "3.13.5"
  }
 },
 "nbformat": 4,
 "nbformat_minor": 5
}
